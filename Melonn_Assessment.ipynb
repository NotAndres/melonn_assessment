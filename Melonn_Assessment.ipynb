{
  "nbformat": 4,
  "nbformat_minor": 0,
  "metadata": {
    "colab": {
      "name": "Melonn Assessment.ipynb",
      "provenance": [],
      "collapsed_sections": [],
      "toc_visible": true
    },
    "kernelspec": {
      "name": "python3",
      "display_name": "Python 3"
    },
    "language_info": {
      "name": "python"
    }
  },
  "cells": [
    {
      "cell_type": "code",
      "metadata": {
        "colab": {
          "base_uri": "https://localhost:8080/"
        },
        "id": "wR0zgaYiAhBp",
        "outputId": "c1c2010a-5d3a-4f98-afb5-eb0cfb225c9e"
      },
      "source": [
        "!pip install statsmodels\n",
        "!pip install pmdarima"
      ],
      "execution_count": 1,
      "outputs": [
        {
          "output_type": "stream",
          "text": [
            "Requirement already satisfied: statsmodels in /usr/local/lib/python3.7/dist-packages (0.12.2)\n",
            "Requirement already satisfied: numpy>=1.15 in /usr/local/lib/python3.7/dist-packages (from statsmodels) (1.19.5)\n",
            "Requirement already satisfied: scipy>=1.1 in /usr/local/lib/python3.7/dist-packages (from statsmodels) (1.4.1)\n",
            "Requirement already satisfied: patsy>=0.5 in /usr/local/lib/python3.7/dist-packages (from statsmodels) (0.5.1)\n",
            "Requirement already satisfied: pandas>=0.21 in /usr/local/lib/python3.7/dist-packages (from statsmodels) (1.1.5)\n",
            "Requirement already satisfied: six in /usr/local/lib/python3.7/dist-packages (from patsy>=0.5->statsmodels) (1.15.0)\n",
            "Requirement already satisfied: pytz>=2017.2 in /usr/local/lib/python3.7/dist-packages (from pandas>=0.21->statsmodels) (2018.9)\n",
            "Requirement already satisfied: python-dateutil>=2.7.3 in /usr/local/lib/python3.7/dist-packages (from pandas>=0.21->statsmodels) (2.8.1)\n",
            "Requirement already satisfied: pmdarima in /usr/local/lib/python3.7/dist-packages (1.8.2)\n",
            "Requirement already satisfied: scikit-learn>=0.22 in /usr/local/lib/python3.7/dist-packages (from pmdarima) (0.22.2.post1)\n",
            "Requirement already satisfied: setuptools!=50.0.0,>=38.6.0 in /usr/local/lib/python3.7/dist-packages (from pmdarima) (57.0.0)\n",
            "Requirement already satisfied: numpy~=1.19.0 in /usr/local/lib/python3.7/dist-packages (from pmdarima) (1.19.5)\n",
            "Requirement already satisfied: scipy>=1.3.2 in /usr/local/lib/python3.7/dist-packages (from pmdarima) (1.4.1)\n",
            "Requirement already satisfied: urllib3 in /usr/local/lib/python3.7/dist-packages (from pmdarima) (1.24.3)\n",
            "Requirement already satisfied: joblib>=0.11 in /usr/local/lib/python3.7/dist-packages (from pmdarima) (1.0.1)\n",
            "Requirement already satisfied: Cython!=0.29.18,>=0.29 in /usr/local/lib/python3.7/dist-packages (from pmdarima) (0.29.23)\n",
            "Requirement already satisfied: statsmodels!=0.12.0,>=0.11 in /usr/local/lib/python3.7/dist-packages (from pmdarima) (0.12.2)\n",
            "Requirement already satisfied: pandas>=0.19 in /usr/local/lib/python3.7/dist-packages (from pmdarima) (1.1.5)\n",
            "Requirement already satisfied: patsy>=0.5 in /usr/local/lib/python3.7/dist-packages (from statsmodels!=0.12.0,>=0.11->pmdarima) (0.5.1)\n",
            "Requirement already satisfied: pytz>=2017.2 in /usr/local/lib/python3.7/dist-packages (from pandas>=0.19->pmdarima) (2018.9)\n",
            "Requirement already satisfied: python-dateutil>=2.7.3 in /usr/local/lib/python3.7/dist-packages (from pandas>=0.19->pmdarima) (2.8.1)\n",
            "Requirement already satisfied: six in /usr/local/lib/python3.7/dist-packages (from patsy>=0.5->statsmodels!=0.12.0,>=0.11->pmdarima) (1.15.0)\n"
          ],
          "name": "stdout"
        }
      ]
    },
    {
      "cell_type": "code",
      "metadata": {
        "id": "XO5CXopYeRpG"
      },
      "source": [
        "import pandas as pd\n",
        "import numpy as np\n",
        "import matplotlib.pyplot as plt\n",
        "import math\n",
        "\n",
        "from datetime import timedelta\n",
        "from pmdarima import auto_arima\n",
        "from statsmodels.tsa.statespace.sarimax import SARIMAX\n",
        "from sklearn.metrics import mean_squared_error\n",
        "from sklearn.model_selection import TimeSeriesSplit\n",
        "\n",
        "base_dir = '/content/drive/MyDrive/'"
      ],
      "execution_count": 132,
      "outputs": []
    },
    {
      "cell_type": "markdown",
      "metadata": {
        "id": "WbolRE7_gj-m"
      },
      "source": [
        "# Checking the Data\n",
        "\n",
        "First thing to do is loading the data and checking what the structure is like."
      ]
    },
    {
      "cell_type": "code",
      "metadata": {
        "colab": {
          "base_uri": "https://localhost:8080/",
          "height": 204
        },
        "id": "bbh77TBqgwIn",
        "outputId": "ed60f5f4-4e79-474a-ee9f-10ad7d2978ce"
      },
      "source": [
        "data_file = base_dir + 'Datos_Prueba_DataScientist.csv'\n",
        "raw_df = pd.read_csv(data_file)\n",
        "raw_df.head()"
      ],
      "execution_count": 3,
      "outputs": [
        {
          "output_type": "execute_result",
          "data": {
            "text/html": [
              "<div>\n",
              "<style scoped>\n",
              "    .dataframe tbody tr th:only-of-type {\n",
              "        vertical-align: middle;\n",
              "    }\n",
              "\n",
              "    .dataframe tbody tr th {\n",
              "        vertical-align: top;\n",
              "    }\n",
              "\n",
              "    .dataframe thead th {\n",
              "        text-align: right;\n",
              "    }\n",
              "</style>\n",
              "<table border=\"1\" class=\"dataframe\">\n",
              "  <thead>\n",
              "    <tr style=\"text-align: right;\">\n",
              "      <th></th>\n",
              "      <th>OrderId</th>\n",
              "      <th>RequestTime</th>\n",
              "      <th>DeliveryOption</th>\n",
              "    </tr>\n",
              "  </thead>\n",
              "  <tbody>\n",
              "    <tr>\n",
              "      <th>0</th>\n",
              "      <td>PED_1</td>\n",
              "      <td>2018-01-01 08:03:12</td>\n",
              "      <td>Mismo dia entre 6:30 pm y 8:30 pm</td>\n",
              "    </tr>\n",
              "    <tr>\n",
              "      <th>1</th>\n",
              "      <td>PED_2</td>\n",
              "      <td>2018-01-01 08:28:55</td>\n",
              "      <td>Mismo dia entre 6:30 pm y 8:30 pm</td>\n",
              "    </tr>\n",
              "    <tr>\n",
              "      <th>2</th>\n",
              "      <td>PED_3</td>\n",
              "      <td>2018-01-01 08:39:08</td>\n",
              "      <td>Mismo dia entre 6:30 pm y 8:30 pm</td>\n",
              "    </tr>\n",
              "    <tr>\n",
              "      <th>3</th>\n",
              "      <td>PED_4</td>\n",
              "      <td>2018-01-01 09:25:07</td>\n",
              "      <td>Siguiente dia entre 12:30 pm y 2:30 pm</td>\n",
              "    </tr>\n",
              "    <tr>\n",
              "      <th>4</th>\n",
              "      <td>PED_5</td>\n",
              "      <td>2018-01-01 09:36:25</td>\n",
              "      <td>Siguiente dia entre 12:30 pm y 2:30 pm</td>\n",
              "    </tr>\n",
              "  </tbody>\n",
              "</table>\n",
              "</div>"
            ],
            "text/plain": [
              "  OrderId          RequestTime                          DeliveryOption\n",
              "0   PED_1  2018-01-01 08:03:12       Mismo dia entre 6:30 pm y 8:30 pm\n",
              "1   PED_2  2018-01-01 08:28:55       Mismo dia entre 6:30 pm y 8:30 pm\n",
              "2   PED_3  2018-01-01 08:39:08       Mismo dia entre 6:30 pm y 8:30 pm\n",
              "3   PED_4  2018-01-01 09:25:07  Siguiente dia entre 12:30 pm y 2:30 pm\n",
              "4   PED_5  2018-01-01 09:36:25  Siguiente dia entre 12:30 pm y 2:30 pm"
            ]
          },
          "metadata": {
            "tags": []
          },
          "execution_count": 3
        }
      ]
    },
    {
      "cell_type": "code",
      "metadata": {
        "colab": {
          "base_uri": "https://localhost:8080/"
        },
        "id": "4Xex_3HShzNW",
        "outputId": "78a9ac05-b2cf-4660-ffa1-97ab828076e1"
      },
      "source": [
        "raw_df.info()"
      ],
      "execution_count": 4,
      "outputs": [
        {
          "output_type": "stream",
          "text": [
            "<class 'pandas.core.frame.DataFrame'>\n",
            "RangeIndex: 153275 entries, 0 to 153274\n",
            "Data columns (total 3 columns):\n",
            " #   Column          Non-Null Count   Dtype \n",
            "---  ------          --------------   ----- \n",
            " 0   OrderId         153275 non-null  object\n",
            " 1   RequestTime     153275 non-null  object\n",
            " 2   DeliveryOption  153275 non-null  object\n",
            "dtypes: object(3)\n",
            "memory usage: 3.5+ MB\n"
          ],
          "name": "stdout"
        }
      ]
    },
    {
      "cell_type": "markdown",
      "metadata": {
        "id": "UaYCsEvviFwK"
      },
      "source": [
        "We can see that the DeliveryOption is a string, since it's hard to know by eye whether all strings referring to the same delivery option are written in the same way we do a fast check of how many different values the column has"
      ]
    },
    {
      "cell_type": "code",
      "metadata": {
        "colab": {
          "base_uri": "https://localhost:8080/"
        },
        "id": "NeDsU3lzievz",
        "outputId": "5caf8d2c-0006-4bc1-8f7d-2100064c4b87"
      },
      "source": [
        "raw_df.DeliveryOption.unique()"
      ],
      "execution_count": 5,
      "outputs": [
        {
          "output_type": "execute_result",
          "data": {
            "text/plain": [
              "array(['Mismo dia entre 6:30 pm y 8:30 pm',\n",
              "       'Siguiente dia entre 12:30 pm y 2:30 pm',\n",
              "       'Siguiente dia entre las 6:30 pm y 8:30 pm'], dtype=object)"
            ]
          },
          "metadata": {
            "tags": []
          },
          "execution_count": 5
        }
      ]
    },
    {
      "cell_type": "markdown",
      "metadata": {
        "id": "D2j6Tzp0k5ur"
      },
      "source": [
        "There are only 3 different values, which is good because this was expected. We could modify this column to be a categorical column and map those strings to codes, but to avoid modifying the original data we'll create a new column for that with shorter names."
      ]
    },
    {
      "cell_type": "code",
      "metadata": {
        "colab": {
          "base_uri": "https://localhost:8080/",
          "height": 204
        },
        "id": "z0K-j7lFj8Ka",
        "outputId": "5622b2fd-360a-4cf6-e036-a43b8dae53b5"
      },
      "source": [
        "raw_df['delivery_code'] = 'None'\n",
        "raw_df.delivery_code[raw_df.DeliveryOption == 'Mismo dia entre 6:30 pm y 8:30 pm'] = 'SAME_DAY'\n",
        "raw_df.delivery_code[raw_df.DeliveryOption == 'Siguiente dia entre 12:30 pm y 2:30 pm'] = 'NEXT_DAY_AFTERNOON'\n",
        "raw_df.delivery_code[raw_df.DeliveryOption == 'Siguiente dia entre las 6:30 pm y 8:30 pm'] = 'NEXT_DAY_EVENING'\n",
        "raw_df.delivery_code = pd.Categorical(raw_df.delivery_code, categories=['SAME_DAY', 'NEXT_DAY_AFTERNOON', 'NEXT_DAY_EVENING'])\n",
        "raw_df.head()"
      ],
      "execution_count": 6,
      "outputs": [
        {
          "output_type": "execute_result",
          "data": {
            "text/html": [
              "<div>\n",
              "<style scoped>\n",
              "    .dataframe tbody tr th:only-of-type {\n",
              "        vertical-align: middle;\n",
              "    }\n",
              "\n",
              "    .dataframe tbody tr th {\n",
              "        vertical-align: top;\n",
              "    }\n",
              "\n",
              "    .dataframe thead th {\n",
              "        text-align: right;\n",
              "    }\n",
              "</style>\n",
              "<table border=\"1\" class=\"dataframe\">\n",
              "  <thead>\n",
              "    <tr style=\"text-align: right;\">\n",
              "      <th></th>\n",
              "      <th>OrderId</th>\n",
              "      <th>RequestTime</th>\n",
              "      <th>DeliveryOption</th>\n",
              "      <th>delivery_code</th>\n",
              "    </tr>\n",
              "  </thead>\n",
              "  <tbody>\n",
              "    <tr>\n",
              "      <th>0</th>\n",
              "      <td>PED_1</td>\n",
              "      <td>2018-01-01 08:03:12</td>\n",
              "      <td>Mismo dia entre 6:30 pm y 8:30 pm</td>\n",
              "      <td>SAME_DAY</td>\n",
              "    </tr>\n",
              "    <tr>\n",
              "      <th>1</th>\n",
              "      <td>PED_2</td>\n",
              "      <td>2018-01-01 08:28:55</td>\n",
              "      <td>Mismo dia entre 6:30 pm y 8:30 pm</td>\n",
              "      <td>SAME_DAY</td>\n",
              "    </tr>\n",
              "    <tr>\n",
              "      <th>2</th>\n",
              "      <td>PED_3</td>\n",
              "      <td>2018-01-01 08:39:08</td>\n",
              "      <td>Mismo dia entre 6:30 pm y 8:30 pm</td>\n",
              "      <td>SAME_DAY</td>\n",
              "    </tr>\n",
              "    <tr>\n",
              "      <th>3</th>\n",
              "      <td>PED_4</td>\n",
              "      <td>2018-01-01 09:25:07</td>\n",
              "      <td>Siguiente dia entre 12:30 pm y 2:30 pm</td>\n",
              "      <td>NEXT_DAY_AFTERNOON</td>\n",
              "    </tr>\n",
              "    <tr>\n",
              "      <th>4</th>\n",
              "      <td>PED_5</td>\n",
              "      <td>2018-01-01 09:36:25</td>\n",
              "      <td>Siguiente dia entre 12:30 pm y 2:30 pm</td>\n",
              "      <td>NEXT_DAY_AFTERNOON</td>\n",
              "    </tr>\n",
              "  </tbody>\n",
              "</table>\n",
              "</div>"
            ],
            "text/plain": [
              "  OrderId  ...       delivery_code\n",
              "0   PED_1  ...            SAME_DAY\n",
              "1   PED_2  ...            SAME_DAY\n",
              "2   PED_3  ...            SAME_DAY\n",
              "3   PED_4  ...  NEXT_DAY_AFTERNOON\n",
              "4   PED_5  ...  NEXT_DAY_AFTERNOON\n",
              "\n",
              "[5 rows x 4 columns]"
            ]
          },
          "metadata": {
            "tags": []
          },
          "execution_count": 6
        }
      ]
    },
    {
      "cell_type": "code",
      "metadata": {
        "colab": {
          "base_uri": "https://localhost:8080/"
        },
        "id": "4UNXxVBDlbuN",
        "outputId": "bb501739-d0d4-4037-b956-3cdee32e09d0"
      },
      "source": [
        "raw_df.delivery_code.cat.categories"
      ],
      "execution_count": 7,
      "outputs": [
        {
          "output_type": "execute_result",
          "data": {
            "text/plain": [
              "Index(['SAME_DAY', 'NEXT_DAY_AFTERNOON', 'NEXT_DAY_EVENING'], dtype='object')"
            ]
          },
          "metadata": {
            "tags": []
          },
          "execution_count": 7
        }
      ]
    },
    {
      "cell_type": "markdown",
      "metadata": {
        "id": "OeGQojmPqQ0r"
      },
      "source": [
        "Since same day orders have a precondition (they have to be placed before 12:00:00) we'll check that all same day orders are valid. Lexicographic order is leveraged here to avoid parsing the date strings into date objects"
      ]
    },
    {
      "cell_type": "code",
      "metadata": {
        "colab": {
          "base_uri": "https://localhost:8080/"
        },
        "id": "Db3ox39rnfWA",
        "outputId": "cc7fc91c-8c87-4436-d66c-51dfac24e32f"
      },
      "source": [
        "order_times = raw_df[raw_df.delivery_code == 'SAME_DAY'].RequestTime.apply(lambda datetime: datetime[11:])\n",
        "sum(order_times > '12:00:00')"
      ],
      "execution_count": 8,
      "outputs": [
        {
          "output_type": "execute_result",
          "data": {
            "text/plain": [
              "0"
            ]
          },
          "metadata": {
            "tags": []
          },
          "execution_count": 8
        }
      ]
    },
    {
      "cell_type": "markdown",
      "metadata": {
        "id": "dR6Ml_QRrCtd"
      },
      "source": [
        "By adding up the boolean array of orders with times greater than 12:00:00 we can check how many orders do not meet the time restriction. Since the result is 0 it means that all same day orders meet the requirement.\n",
        "\n",
        "Now we have to identify in which day the orders would be delivered and to which shift (morning, afternoon) they would be assigned to."
      ]
    },
    {
      "cell_type": "code",
      "metadata": {
        "colab": {
          "base_uri": "https://localhost:8080/",
          "height": 204
        },
        "id": "_vCwPXDgzbok",
        "outputId": "aa06d188-898a-4361-c05e-e1221bcaa369"
      },
      "source": [
        "raw_df['received_day'] = pd.to_datetime(raw_df.RequestTime, format=\"%Y-%m-%d\")\n",
        "raw_df.received_day = raw_df.received_day.dt.date\n",
        "raw_df.head()"
      ],
      "execution_count": 9,
      "outputs": [
        {
          "output_type": "execute_result",
          "data": {
            "text/html": [
              "<div>\n",
              "<style scoped>\n",
              "    .dataframe tbody tr th:only-of-type {\n",
              "        vertical-align: middle;\n",
              "    }\n",
              "\n",
              "    .dataframe tbody tr th {\n",
              "        vertical-align: top;\n",
              "    }\n",
              "\n",
              "    .dataframe thead th {\n",
              "        text-align: right;\n",
              "    }\n",
              "</style>\n",
              "<table border=\"1\" class=\"dataframe\">\n",
              "  <thead>\n",
              "    <tr style=\"text-align: right;\">\n",
              "      <th></th>\n",
              "      <th>OrderId</th>\n",
              "      <th>RequestTime</th>\n",
              "      <th>DeliveryOption</th>\n",
              "      <th>delivery_code</th>\n",
              "      <th>received_day</th>\n",
              "    </tr>\n",
              "  </thead>\n",
              "  <tbody>\n",
              "    <tr>\n",
              "      <th>0</th>\n",
              "      <td>PED_1</td>\n",
              "      <td>2018-01-01 08:03:12</td>\n",
              "      <td>Mismo dia entre 6:30 pm y 8:30 pm</td>\n",
              "      <td>SAME_DAY</td>\n",
              "      <td>2018-01-01</td>\n",
              "    </tr>\n",
              "    <tr>\n",
              "      <th>1</th>\n",
              "      <td>PED_2</td>\n",
              "      <td>2018-01-01 08:28:55</td>\n",
              "      <td>Mismo dia entre 6:30 pm y 8:30 pm</td>\n",
              "      <td>SAME_DAY</td>\n",
              "      <td>2018-01-01</td>\n",
              "    </tr>\n",
              "    <tr>\n",
              "      <th>2</th>\n",
              "      <td>PED_3</td>\n",
              "      <td>2018-01-01 08:39:08</td>\n",
              "      <td>Mismo dia entre 6:30 pm y 8:30 pm</td>\n",
              "      <td>SAME_DAY</td>\n",
              "      <td>2018-01-01</td>\n",
              "    </tr>\n",
              "    <tr>\n",
              "      <th>3</th>\n",
              "      <td>PED_4</td>\n",
              "      <td>2018-01-01 09:25:07</td>\n",
              "      <td>Siguiente dia entre 12:30 pm y 2:30 pm</td>\n",
              "      <td>NEXT_DAY_AFTERNOON</td>\n",
              "      <td>2018-01-01</td>\n",
              "    </tr>\n",
              "    <tr>\n",
              "      <th>4</th>\n",
              "      <td>PED_5</td>\n",
              "      <td>2018-01-01 09:36:25</td>\n",
              "      <td>Siguiente dia entre 12:30 pm y 2:30 pm</td>\n",
              "      <td>NEXT_DAY_AFTERNOON</td>\n",
              "      <td>2018-01-01</td>\n",
              "    </tr>\n",
              "  </tbody>\n",
              "</table>\n",
              "</div>"
            ],
            "text/plain": [
              "  OrderId          RequestTime  ...       delivery_code received_day\n",
              "0   PED_1  2018-01-01 08:03:12  ...            SAME_DAY   2018-01-01\n",
              "1   PED_2  2018-01-01 08:28:55  ...            SAME_DAY   2018-01-01\n",
              "2   PED_3  2018-01-01 08:39:08  ...            SAME_DAY   2018-01-01\n",
              "3   PED_4  2018-01-01 09:25:07  ...  NEXT_DAY_AFTERNOON   2018-01-01\n",
              "4   PED_5  2018-01-01 09:36:25  ...  NEXT_DAY_AFTERNOON   2018-01-01\n",
              "\n",
              "[5 rows x 5 columns]"
            ]
          },
          "metadata": {
            "tags": []
          },
          "execution_count": 9
        }
      ]
    },
    {
      "cell_type": "code",
      "metadata": {
        "colab": {
          "base_uri": "https://localhost:8080/",
          "height": 419
        },
        "id": "nqwuc_y21KnE",
        "outputId": "838feb7a-5b28-4fd8-ca4e-13bbbd7d6843"
      },
      "source": [
        "raw_df['morning_shift'] = False\n",
        "raw_df['delivery_date'] = raw_df.received_day\n",
        "\n",
        "raw_df.loc[raw_df.delivery_code != 'SAME_DAY', 'morning_shift'] = True\n",
        "next_day = raw_df.delivery_date[raw_df.delivery_code != 'SAME_DAY'] + timedelta(days=1)\n",
        "raw_df.loc[raw_df.delivery_code != 'SAME_DAY', 'delivery_date'] = next_day \n",
        "\n",
        "raw_df['delivery_month'] = raw_df.delivery_date.astype(str).str[:7]\n",
        "raw_df"
      ],
      "execution_count": 10,
      "outputs": [
        {
          "output_type": "execute_result",
          "data": {
            "text/html": [
              "<div>\n",
              "<style scoped>\n",
              "    .dataframe tbody tr th:only-of-type {\n",
              "        vertical-align: middle;\n",
              "    }\n",
              "\n",
              "    .dataframe tbody tr th {\n",
              "        vertical-align: top;\n",
              "    }\n",
              "\n",
              "    .dataframe thead th {\n",
              "        text-align: right;\n",
              "    }\n",
              "</style>\n",
              "<table border=\"1\" class=\"dataframe\">\n",
              "  <thead>\n",
              "    <tr style=\"text-align: right;\">\n",
              "      <th></th>\n",
              "      <th>OrderId</th>\n",
              "      <th>RequestTime</th>\n",
              "      <th>DeliveryOption</th>\n",
              "      <th>delivery_code</th>\n",
              "      <th>received_day</th>\n",
              "      <th>morning_shift</th>\n",
              "      <th>delivery_date</th>\n",
              "      <th>delivery_month</th>\n",
              "    </tr>\n",
              "  </thead>\n",
              "  <tbody>\n",
              "    <tr>\n",
              "      <th>0</th>\n",
              "      <td>PED_1</td>\n",
              "      <td>2018-01-01 08:03:12</td>\n",
              "      <td>Mismo dia entre 6:30 pm y 8:30 pm</td>\n",
              "      <td>SAME_DAY</td>\n",
              "      <td>2018-01-01</td>\n",
              "      <td>False</td>\n",
              "      <td>2018-01-01</td>\n",
              "      <td>2018-01</td>\n",
              "    </tr>\n",
              "    <tr>\n",
              "      <th>1</th>\n",
              "      <td>PED_2</td>\n",
              "      <td>2018-01-01 08:28:55</td>\n",
              "      <td>Mismo dia entre 6:30 pm y 8:30 pm</td>\n",
              "      <td>SAME_DAY</td>\n",
              "      <td>2018-01-01</td>\n",
              "      <td>False</td>\n",
              "      <td>2018-01-01</td>\n",
              "      <td>2018-01</td>\n",
              "    </tr>\n",
              "    <tr>\n",
              "      <th>2</th>\n",
              "      <td>PED_3</td>\n",
              "      <td>2018-01-01 08:39:08</td>\n",
              "      <td>Mismo dia entre 6:30 pm y 8:30 pm</td>\n",
              "      <td>SAME_DAY</td>\n",
              "      <td>2018-01-01</td>\n",
              "      <td>False</td>\n",
              "      <td>2018-01-01</td>\n",
              "      <td>2018-01</td>\n",
              "    </tr>\n",
              "    <tr>\n",
              "      <th>3</th>\n",
              "      <td>PED_4</td>\n",
              "      <td>2018-01-01 09:25:07</td>\n",
              "      <td>Siguiente dia entre 12:30 pm y 2:30 pm</td>\n",
              "      <td>NEXT_DAY_AFTERNOON</td>\n",
              "      <td>2018-01-01</td>\n",
              "      <td>True</td>\n",
              "      <td>2018-01-02</td>\n",
              "      <td>2018-01</td>\n",
              "    </tr>\n",
              "    <tr>\n",
              "      <th>4</th>\n",
              "      <td>PED_5</td>\n",
              "      <td>2018-01-01 09:36:25</td>\n",
              "      <td>Siguiente dia entre 12:30 pm y 2:30 pm</td>\n",
              "      <td>NEXT_DAY_AFTERNOON</td>\n",
              "      <td>2018-01-01</td>\n",
              "      <td>True</td>\n",
              "      <td>2018-01-02</td>\n",
              "      <td>2018-01</td>\n",
              "    </tr>\n",
              "    <tr>\n",
              "      <th>...</th>\n",
              "      <td>...</td>\n",
              "      <td>...</td>\n",
              "      <td>...</td>\n",
              "      <td>...</td>\n",
              "      <td>...</td>\n",
              "      <td>...</td>\n",
              "      <td>...</td>\n",
              "      <td>...</td>\n",
              "    </tr>\n",
              "    <tr>\n",
              "      <th>153270</th>\n",
              "      <td>PED_153271</td>\n",
              "      <td>2021-02-28 17:19:26</td>\n",
              "      <td>Siguiente dia entre 12:30 pm y 2:30 pm</td>\n",
              "      <td>NEXT_DAY_AFTERNOON</td>\n",
              "      <td>2021-02-28</td>\n",
              "      <td>True</td>\n",
              "      <td>2021-03-01</td>\n",
              "      <td>2021-03</td>\n",
              "    </tr>\n",
              "    <tr>\n",
              "      <th>153271</th>\n",
              "      <td>PED_153272</td>\n",
              "      <td>2021-02-28 17:19:37</td>\n",
              "      <td>Siguiente dia entre 12:30 pm y 2:30 pm</td>\n",
              "      <td>NEXT_DAY_AFTERNOON</td>\n",
              "      <td>2021-02-28</td>\n",
              "      <td>True</td>\n",
              "      <td>2021-03-01</td>\n",
              "      <td>2021-03</td>\n",
              "    </tr>\n",
              "    <tr>\n",
              "      <th>153272</th>\n",
              "      <td>PED_153273</td>\n",
              "      <td>2021-02-28 17:43:56</td>\n",
              "      <td>Siguiente dia entre las 6:30 pm y 8:30 pm</td>\n",
              "      <td>NEXT_DAY_EVENING</td>\n",
              "      <td>2021-02-28</td>\n",
              "      <td>True</td>\n",
              "      <td>2021-03-01</td>\n",
              "      <td>2021-03</td>\n",
              "    </tr>\n",
              "    <tr>\n",
              "      <th>153273</th>\n",
              "      <td>PED_153274</td>\n",
              "      <td>2021-02-28 17:53:28</td>\n",
              "      <td>Siguiente dia entre las 6:30 pm y 8:30 pm</td>\n",
              "      <td>NEXT_DAY_EVENING</td>\n",
              "      <td>2021-02-28</td>\n",
              "      <td>True</td>\n",
              "      <td>2021-03-01</td>\n",
              "      <td>2021-03</td>\n",
              "    </tr>\n",
              "    <tr>\n",
              "      <th>153274</th>\n",
              "      <td>PED_153275</td>\n",
              "      <td>2021-02-28 17:53:41</td>\n",
              "      <td>Siguiente dia entre 12:30 pm y 2:30 pm</td>\n",
              "      <td>NEXT_DAY_AFTERNOON</td>\n",
              "      <td>2021-02-28</td>\n",
              "      <td>True</td>\n",
              "      <td>2021-03-01</td>\n",
              "      <td>2021-03</td>\n",
              "    </tr>\n",
              "  </tbody>\n",
              "</table>\n",
              "<p>153275 rows × 8 columns</p>\n",
              "</div>"
            ],
            "text/plain": [
              "           OrderId          RequestTime  ... delivery_date delivery_month\n",
              "0            PED_1  2018-01-01 08:03:12  ...    2018-01-01        2018-01\n",
              "1            PED_2  2018-01-01 08:28:55  ...    2018-01-01        2018-01\n",
              "2            PED_3  2018-01-01 08:39:08  ...    2018-01-01        2018-01\n",
              "3            PED_4  2018-01-01 09:25:07  ...    2018-01-02        2018-01\n",
              "4            PED_5  2018-01-01 09:36:25  ...    2018-01-02        2018-01\n",
              "...            ...                  ...  ...           ...            ...\n",
              "153270  PED_153271  2021-02-28 17:19:26  ...    2021-03-01        2021-03\n",
              "153271  PED_153272  2021-02-28 17:19:37  ...    2021-03-01        2021-03\n",
              "153272  PED_153273  2021-02-28 17:43:56  ...    2021-03-01        2021-03\n",
              "153273  PED_153274  2021-02-28 17:53:28  ...    2021-03-01        2021-03\n",
              "153274  PED_153275  2021-02-28 17:53:41  ...    2021-03-01        2021-03\n",
              "\n",
              "[153275 rows x 8 columns]"
            ]
          },
          "metadata": {
            "tags": []
          },
          "execution_count": 10
        }
      ]
    },
    {
      "cell_type": "markdown",
      "metadata": {
        "id": "PPKR7amY9wmq"
      },
      "source": [
        "The only missing piece of information is the pandemic affectedness level, which is added below"
      ]
    },
    {
      "cell_type": "code",
      "metadata": {
        "colab": {
          "base_uri": "https://localhost:8080/",
          "height": 289
        },
        "id": "caf6-OWD98Sl",
        "outputId": "3d777a32-e505-41d0-f1fd-65cd830bb28f"
      },
      "source": [
        "affectedness_level_dict = {\n",
        "    \"2020-03\": 3,\n",
        "    \"2020-04\": 3,\n",
        "    \"2020-05\": 1,\n",
        "    \"2020-06\": 1,\n",
        "    \"2020-07\": 1,\n",
        "    \"2020-08\": 2,\n",
        "    \"2020-09\": 2,\n",
        "    \"2020-10\": 1,\n",
        "    \"2020-11\": 1,\n",
        "    \"2020-12\": 2,\n",
        "    \"2021-01\": 2,\n",
        "    \"2021-02\": 1\n",
        "}\n",
        "\n",
        "affectedness_level = raw_df.delivery_month.apply(lambda item: affectedness_level_dict.get(item, 0))\n",
        "raw_df['affectedness_level'] = affectedness_level\n",
        "raw_df.head()"
      ],
      "execution_count": 11,
      "outputs": [
        {
          "output_type": "execute_result",
          "data": {
            "text/html": [
              "<div>\n",
              "<style scoped>\n",
              "    .dataframe tbody tr th:only-of-type {\n",
              "        vertical-align: middle;\n",
              "    }\n",
              "\n",
              "    .dataframe tbody tr th {\n",
              "        vertical-align: top;\n",
              "    }\n",
              "\n",
              "    .dataframe thead th {\n",
              "        text-align: right;\n",
              "    }\n",
              "</style>\n",
              "<table border=\"1\" class=\"dataframe\">\n",
              "  <thead>\n",
              "    <tr style=\"text-align: right;\">\n",
              "      <th></th>\n",
              "      <th>OrderId</th>\n",
              "      <th>RequestTime</th>\n",
              "      <th>DeliveryOption</th>\n",
              "      <th>delivery_code</th>\n",
              "      <th>received_day</th>\n",
              "      <th>morning_shift</th>\n",
              "      <th>delivery_date</th>\n",
              "      <th>delivery_month</th>\n",
              "      <th>affectedness_level</th>\n",
              "    </tr>\n",
              "  </thead>\n",
              "  <tbody>\n",
              "    <tr>\n",
              "      <th>0</th>\n",
              "      <td>PED_1</td>\n",
              "      <td>2018-01-01 08:03:12</td>\n",
              "      <td>Mismo dia entre 6:30 pm y 8:30 pm</td>\n",
              "      <td>SAME_DAY</td>\n",
              "      <td>2018-01-01</td>\n",
              "      <td>False</td>\n",
              "      <td>2018-01-01</td>\n",
              "      <td>2018-01</td>\n",
              "      <td>0</td>\n",
              "    </tr>\n",
              "    <tr>\n",
              "      <th>1</th>\n",
              "      <td>PED_2</td>\n",
              "      <td>2018-01-01 08:28:55</td>\n",
              "      <td>Mismo dia entre 6:30 pm y 8:30 pm</td>\n",
              "      <td>SAME_DAY</td>\n",
              "      <td>2018-01-01</td>\n",
              "      <td>False</td>\n",
              "      <td>2018-01-01</td>\n",
              "      <td>2018-01</td>\n",
              "      <td>0</td>\n",
              "    </tr>\n",
              "    <tr>\n",
              "      <th>2</th>\n",
              "      <td>PED_3</td>\n",
              "      <td>2018-01-01 08:39:08</td>\n",
              "      <td>Mismo dia entre 6:30 pm y 8:30 pm</td>\n",
              "      <td>SAME_DAY</td>\n",
              "      <td>2018-01-01</td>\n",
              "      <td>False</td>\n",
              "      <td>2018-01-01</td>\n",
              "      <td>2018-01</td>\n",
              "      <td>0</td>\n",
              "    </tr>\n",
              "    <tr>\n",
              "      <th>3</th>\n",
              "      <td>PED_4</td>\n",
              "      <td>2018-01-01 09:25:07</td>\n",
              "      <td>Siguiente dia entre 12:30 pm y 2:30 pm</td>\n",
              "      <td>NEXT_DAY_AFTERNOON</td>\n",
              "      <td>2018-01-01</td>\n",
              "      <td>True</td>\n",
              "      <td>2018-01-02</td>\n",
              "      <td>2018-01</td>\n",
              "      <td>0</td>\n",
              "    </tr>\n",
              "    <tr>\n",
              "      <th>4</th>\n",
              "      <td>PED_5</td>\n",
              "      <td>2018-01-01 09:36:25</td>\n",
              "      <td>Siguiente dia entre 12:30 pm y 2:30 pm</td>\n",
              "      <td>NEXT_DAY_AFTERNOON</td>\n",
              "      <td>2018-01-01</td>\n",
              "      <td>True</td>\n",
              "      <td>2018-01-02</td>\n",
              "      <td>2018-01</td>\n",
              "      <td>0</td>\n",
              "    </tr>\n",
              "  </tbody>\n",
              "</table>\n",
              "</div>"
            ],
            "text/plain": [
              "  OrderId          RequestTime  ... delivery_month affectedness_level\n",
              "0   PED_1  2018-01-01 08:03:12  ...        2018-01                  0\n",
              "1   PED_2  2018-01-01 08:28:55  ...        2018-01                  0\n",
              "2   PED_3  2018-01-01 08:39:08  ...        2018-01                  0\n",
              "3   PED_4  2018-01-01 09:25:07  ...        2018-01                  0\n",
              "4   PED_5  2018-01-01 09:36:25  ...        2018-01                  0\n",
              "\n",
              "[5 rows x 9 columns]"
            ]
          },
          "metadata": {
            "tags": []
          },
          "execution_count": 11
        }
      ]
    },
    {
      "cell_type": "markdown",
      "metadata": {
        "id": "qX5qbrc8_mGJ"
      },
      "source": [
        "With all that we now have all the data we might need"
      ]
    },
    {
      "cell_type": "code",
      "metadata": {
        "colab": {
          "base_uri": "https://localhost:8080/",
          "height": 204
        },
        "id": "b_M93_op_2y5",
        "outputId": "13131ae0-1c7c-4e75-fb22-7a0ccf871856"
      },
      "source": [
        "parsed_df = raw_df[['delivery_date', 'delivery_month', 'morning_shift', 'affectedness_level']]\n",
        "parsed_df.head()"
      ],
      "execution_count": 12,
      "outputs": [
        {
          "output_type": "execute_result",
          "data": {
            "text/html": [
              "<div>\n",
              "<style scoped>\n",
              "    .dataframe tbody tr th:only-of-type {\n",
              "        vertical-align: middle;\n",
              "    }\n",
              "\n",
              "    .dataframe tbody tr th {\n",
              "        vertical-align: top;\n",
              "    }\n",
              "\n",
              "    .dataframe thead th {\n",
              "        text-align: right;\n",
              "    }\n",
              "</style>\n",
              "<table border=\"1\" class=\"dataframe\">\n",
              "  <thead>\n",
              "    <tr style=\"text-align: right;\">\n",
              "      <th></th>\n",
              "      <th>delivery_date</th>\n",
              "      <th>delivery_month</th>\n",
              "      <th>morning_shift</th>\n",
              "      <th>affectedness_level</th>\n",
              "    </tr>\n",
              "  </thead>\n",
              "  <tbody>\n",
              "    <tr>\n",
              "      <th>0</th>\n",
              "      <td>2018-01-01</td>\n",
              "      <td>2018-01</td>\n",
              "      <td>False</td>\n",
              "      <td>0</td>\n",
              "    </tr>\n",
              "    <tr>\n",
              "      <th>1</th>\n",
              "      <td>2018-01-01</td>\n",
              "      <td>2018-01</td>\n",
              "      <td>False</td>\n",
              "      <td>0</td>\n",
              "    </tr>\n",
              "    <tr>\n",
              "      <th>2</th>\n",
              "      <td>2018-01-01</td>\n",
              "      <td>2018-01</td>\n",
              "      <td>False</td>\n",
              "      <td>0</td>\n",
              "    </tr>\n",
              "    <tr>\n",
              "      <th>3</th>\n",
              "      <td>2018-01-02</td>\n",
              "      <td>2018-01</td>\n",
              "      <td>True</td>\n",
              "      <td>0</td>\n",
              "    </tr>\n",
              "    <tr>\n",
              "      <th>4</th>\n",
              "      <td>2018-01-02</td>\n",
              "      <td>2018-01</td>\n",
              "      <td>True</td>\n",
              "      <td>0</td>\n",
              "    </tr>\n",
              "  </tbody>\n",
              "</table>\n",
              "</div>"
            ],
            "text/plain": [
              "  delivery_date delivery_month  morning_shift  affectedness_level\n",
              "0    2018-01-01        2018-01          False                   0\n",
              "1    2018-01-01        2018-01          False                   0\n",
              "2    2018-01-01        2018-01          False                   0\n",
              "3    2018-01-02        2018-01           True                   0\n",
              "4    2018-01-02        2018-01           True                   0"
            ]
          },
          "metadata": {
            "tags": []
          },
          "execution_count": 12
        }
      ]
    },
    {
      "cell_type": "markdown",
      "metadata": {
        "id": "aB5RYBCHAlKo"
      },
      "source": [
        "# Counting Orders\n",
        "\n",
        "We have every order as a single row in the dataframe. To check whats the behaviour of the data and if it follows any kind of pattern we first have to count the orders"
      ]
    },
    {
      "cell_type": "code",
      "metadata": {
        "colab": {
          "base_uri": "https://localhost:8080/",
          "height": 419
        },
        "id": "v0OGdbNcA91V",
        "outputId": "15188065-73f3-425d-c2be-e6b807477093"
      },
      "source": [
        "monthly_orders = parsed_df[['delivery_month', 'morning_shift', 'delivery_date']].groupby(['delivery_month', 'morning_shift']).agg('count')\n",
        "monthly_orders.reset_index(inplace=True)\n",
        "monthly_orders = monthly_orders.rename(columns={'delivery_date': 'orders'})\n",
        "monthly_orders"
      ],
      "execution_count": 13,
      "outputs": [
        {
          "output_type": "execute_result",
          "data": {
            "text/html": [
              "<div>\n",
              "<style scoped>\n",
              "    .dataframe tbody tr th:only-of-type {\n",
              "        vertical-align: middle;\n",
              "    }\n",
              "\n",
              "    .dataframe tbody tr th {\n",
              "        vertical-align: top;\n",
              "    }\n",
              "\n",
              "    .dataframe thead th {\n",
              "        text-align: right;\n",
              "    }\n",
              "</style>\n",
              "<table border=\"1\" class=\"dataframe\">\n",
              "  <thead>\n",
              "    <tr style=\"text-align: right;\">\n",
              "      <th></th>\n",
              "      <th>delivery_month</th>\n",
              "      <th>morning_shift</th>\n",
              "      <th>orders</th>\n",
              "    </tr>\n",
              "  </thead>\n",
              "  <tbody>\n",
              "    <tr>\n",
              "      <th>0</th>\n",
              "      <td>2018-01</td>\n",
              "      <td>False</td>\n",
              "      <td>376</td>\n",
              "    </tr>\n",
              "    <tr>\n",
              "      <th>1</th>\n",
              "      <td>2018-01</td>\n",
              "      <td>True</td>\n",
              "      <td>438</td>\n",
              "    </tr>\n",
              "    <tr>\n",
              "      <th>2</th>\n",
              "      <td>2018-02</td>\n",
              "      <td>False</td>\n",
              "      <td>363</td>\n",
              "    </tr>\n",
              "    <tr>\n",
              "      <th>3</th>\n",
              "      <td>2018-02</td>\n",
              "      <td>True</td>\n",
              "      <td>371</td>\n",
              "    </tr>\n",
              "    <tr>\n",
              "      <th>4</th>\n",
              "      <td>2018-03</td>\n",
              "      <td>False</td>\n",
              "      <td>500</td>\n",
              "    </tr>\n",
              "    <tr>\n",
              "      <th>...</th>\n",
              "      <td>...</td>\n",
              "      <td>...</td>\n",
              "      <td>...</td>\n",
              "    </tr>\n",
              "    <tr>\n",
              "      <th>72</th>\n",
              "      <td>2021-01</td>\n",
              "      <td>False</td>\n",
              "      <td>4427</td>\n",
              "    </tr>\n",
              "    <tr>\n",
              "      <th>73</th>\n",
              "      <td>2021-01</td>\n",
              "      <td>True</td>\n",
              "      <td>3154</td>\n",
              "    </tr>\n",
              "    <tr>\n",
              "      <th>74</th>\n",
              "      <td>2021-02</td>\n",
              "      <td>False</td>\n",
              "      <td>3424</td>\n",
              "    </tr>\n",
              "    <tr>\n",
              "      <th>75</th>\n",
              "      <td>2021-02</td>\n",
              "      <td>True</td>\n",
              "      <td>2611</td>\n",
              "    </tr>\n",
              "    <tr>\n",
              "      <th>76</th>\n",
              "      <td>2021-03</td>\n",
              "      <td>True</td>\n",
              "      <td>102</td>\n",
              "    </tr>\n",
              "  </tbody>\n",
              "</table>\n",
              "<p>77 rows × 3 columns</p>\n",
              "</div>"
            ],
            "text/plain": [
              "   delivery_month  morning_shift  orders\n",
              "0         2018-01          False     376\n",
              "1         2018-01           True     438\n",
              "2         2018-02          False     363\n",
              "3         2018-02           True     371\n",
              "4         2018-03          False     500\n",
              "..            ...            ...     ...\n",
              "72        2021-01          False    4427\n",
              "73        2021-01           True    3154\n",
              "74        2021-02          False    3424\n",
              "75        2021-02           True    2611\n",
              "76        2021-03           True     102\n",
              "\n",
              "[77 rows x 3 columns]"
            ]
          },
          "metadata": {
            "tags": []
          },
          "execution_count": 13
        }
      ]
    },
    {
      "cell_type": "code",
      "metadata": {
        "colab": {
          "base_uri": "https://localhost:8080/",
          "height": 639
        },
        "id": "IBR-r02WDTPq",
        "outputId": "4729e9b6-a0a8-497f-f8b1-b46379fefcca"
      },
      "source": [
        "morning_orders = monthly_orders[monthly_orders.morning_shift == True][:-1]\n",
        "afternoon_orders = monthly_orders[monthly_orders.morning_shift == False]\n",
        "total_months = len(morning_orders)\n",
        "\n",
        "plt.figure(figsize=(12,10))\n",
        "\n",
        "plt.plot(morning_orders.delivery_month, morning_orders.orders, label='morning')\n",
        "plt.plot(afternoon_orders.delivery_month, afternoon_orders.orders, label='afternoon')\n",
        "plt.title(\"Orders per Month\")\n",
        "plt.xticks(range(0, total_months+1, total_months//20), rotation='vertical')\n",
        "plt.yticks(range(200, 5300, 200))\n",
        "plt.legend()\n",
        "plt.grid()\n",
        "plt.plot()\n",
        "plt.show()"
      ],
      "execution_count": 81,
      "outputs": [
        {
          "output_type": "display_data",
          "data": {
            "image/png": "[encoded data removed]",
            "text/plain": [
              "<Figure size 864x720 with 1 Axes>"
            ]
          },
          "metadata": {
            "tags": [],
            "needs_background": "light"
          }
        }
      ]
    },
    {
      "cell_type": "markdown",
      "metadata": {
        "id": "KnWAL9ZucBZp"
      },
      "source": [
        "From the previous figure it seems that the order data is seasonal but also trendy (the last data point corresponding to march 2021 is ignored beucase theres only order data for 1 day). The data has seasonality because there are clear peaks around july and december, which most likely is related to the holidays and the mid-year bonus; and the data is trendy because it has a trend of increasing orders regardless of the peaks we see.\n",
        "\n",
        "We'll have to deal with the data being not stationary somehow, either by using a model that considers that or by adding extra features and transforming the data"
      ]
    },
    {
      "cell_type": "markdown",
      "metadata": {
        "id": "F1h1hQYngr6R"
      },
      "source": [
        "# Regression\n",
        "\n",
        "With our data in place, and separated into morning and afternoon shifts we can now attempt to forecast what the sales for march 2021 will be.\n",
        "\n",
        "One issue that we face is that we must always split our dataset and perform cross-validation, but since our data is not stationary it can be hard to find a good train-test split. We'll use the arima model and leverage a tool called autoarima to search for the best parameters; the train/test split was done manually leaving at most 12 months of data for testing and at minimum 3, it was not included in the notebook to avoid cluttering everything. The best split was to leave 4 months for testing and the rest for training."
      ]
    },
    {
      "cell_type": "code",
      "metadata": {
        "id": "wK9EC8sQg1RI",
        "colab": {
          "base_uri": "https://localhost:8080/"
        },
        "outputId": "06c6b12b-2fc3-4405-b8e2-336c2ecf9ade"
      },
      "source": [
        "stepwise_fit = auto_arima(afternoon_orders.orders[:-4], start_p = 1, start_q = 1,\n",
        "                          max_p = 12, max_q = 12, m = 12,\n",
        "                          start_P = 0, seasonal = True,\n",
        "                          d = None, D = 1, trace = False,\n",
        "                          error_action ='ignore')\n",
        "  \n",
        "print(stepwise_fit.summary())"
      ],
      "execution_count": 107,
      "outputs": [
        {
          "output_type": "stream",
          "text": [
            "                                      SARIMAX Results                                      \n",
            "===========================================================================================\n",
            "Dep. Variable:                                   y   No. Observations:                   34\n",
            "Model:             SARIMAX(0, 0, 1)x(0, 1, [], 12)   Log Likelihood                -162.379\n",
            "Date:                             Fri, 04 Jun 2021   AIC                            330.758\n",
            "Time:                                     00:41:24   BIC                            334.031\n",
            "Sample:                                          0   HQIC                           331.529\n",
            "                                              - 34                                         \n",
            "Covariance Type:                               opg                                         \n",
            "==============================================================================\n",
            "                 coef    std err          z      P>|z|      [0.025      0.975]\n",
            "------------------------------------------------------------------------------\n",
            "intercept   1172.0180    191.861      6.109      0.000     795.977    1548.059\n",
            "ma.L1          0.7219      0.259      2.786      0.005       0.214       1.230\n",
            "sigma2        1.5e+05   4.46e+04      3.366      0.001    6.27e+04    2.37e+05\n",
            "===================================================================================\n",
            "Ljung-Box (L1) (Q):                   0.04   Jarque-Bera (JB):                21.56\n",
            "Prob(Q):                              0.85   Prob(JB):                         0.00\n",
            "Heteroskedasticity (H):               1.41   Skew:                            -1.58\n",
            "Prob(H) (two-sided):                  0.66   Kurtosis:                         6.68\n",
            "===================================================================================\n",
            "\n",
            "Warnings:\n",
            "[1] Covariance matrix calculated using the outer product of gradients (complex-step).\n"
          ],
          "name": "stdout"
        }
      ]
    },
    {
      "cell_type": "code",
      "metadata": {
        "colab": {
          "base_uri": "https://localhost:8080/",
          "height": 381
        },
        "id": "qDKQJiaXNKIR",
        "outputId": "aa81a286-5783-4b98-b048-126b6e8054b8"
      },
      "source": [
        "model = SARIMAX(afternoon_orders.orders.values[:-4], \n",
        "                order = (0, 1, 0), \n",
        "                seasonal_order =(0, 1, [], 12))\n",
        "  \n",
        "result = model.fit()\n",
        "result.summary()"
      ],
      "execution_count": 108,
      "outputs": [
        {
          "output_type": "execute_result",
          "data": {
            "text/html": [
              "<table class=\"simpletable\">\n",
              "<caption>SARIMAX Results</caption>\n",
              "<tr>\n",
              "  <th>Dep. Variable:</th>                  <td>y</td>               <th>  No. Observations:  </th>    <td>34</td>   \n",
              "</tr>\n",
              "<tr>\n",
              "  <th>Model:</th>           <td>SARIMAX(0, 1, 0)x(0, 1, 0, 12)</td> <th>  Log Likelihood     </th> <td>-160.256</td>\n",
              "</tr>\n",
              "<tr>\n",
              "  <th>Date:</th>                   <td>Fri, 04 Jun 2021</td>        <th>  AIC                </th>  <td>322.513</td>\n",
              "</tr>\n",
              "<tr>\n",
              "  <th>Time:</th>                       <td>00:41:27</td>            <th>  BIC                </th>  <td>323.557</td>\n",
              "</tr>\n",
              "<tr>\n",
              "  <th>Sample:</th>                         <td>0</td>               <th>  HQIC               </th>  <td>322.740</td>\n",
              "</tr>\n",
              "<tr>\n",
              "  <th></th>                              <td> - 34</td>             <th>                     </th>     <td> </td>   \n",
              "</tr>\n",
              "<tr>\n",
              "  <th>Covariance Type:</th>               <td>opg</td>              <th>                     </th>     <td> </td>   \n",
              "</tr>\n",
              "</table>\n",
              "<table class=\"simpletable\">\n",
              "<tr>\n",
              "     <td></td>       <th>coef</th>     <th>std err</th>      <th>z</th>      <th>P>|z|</th>  <th>[0.025</th>    <th>0.975]</th>  \n",
              "</tr>\n",
              "<tr>\n",
              "  <th>sigma2</th> <td> 2.487e+05</td> <td> 6.09e+04</td> <td>    4.082</td> <td> 0.000</td> <td> 1.29e+05</td> <td> 3.68e+05</td>\n",
              "</tr>\n",
              "</table>\n",
              "<table class=\"simpletable\">\n",
              "<tr>\n",
              "  <th>Ljung-Box (L1) (Q):</th>     <td>0.42</td> <th>  Jarque-Bera (JB):  </th> <td>1.51</td> \n",
              "</tr>\n",
              "<tr>\n",
              "  <th>Prob(Q):</th>                <td>0.52</td> <th>  Prob(JB):          </th> <td>0.47</td> \n",
              "</tr>\n",
              "<tr>\n",
              "  <th>Heteroskedasticity (H):</th> <td>3.96</td> <th>  Skew:              </th> <td>-0.37</td>\n",
              "</tr>\n",
              "<tr>\n",
              "  <th>Prob(H) (two-sided):</th>    <td>0.09</td> <th>  Kurtosis:          </th> <td>4.09</td> \n",
              "</tr>\n",
              "</table><br/><br/>Warnings:<br/>[1] Covariance matrix calculated using the outer product of gradients (complex-step)."
            ],
            "text/plain": [
              "<class 'statsmodels.iolib.summary.Summary'>\n",
              "\"\"\"\n",
              "                                     SARIMAX Results                                      \n",
              "==========================================================================================\n",
              "Dep. Variable:                                  y   No. Observations:                   34\n",
              "Model:             SARIMAX(0, 1, 0)x(0, 1, 0, 12)   Log Likelihood                -160.256\n",
              "Date:                            Fri, 04 Jun 2021   AIC                            322.513\n",
              "Time:                                    00:41:27   BIC                            323.557\n",
              "Sample:                                         0   HQIC                           322.740\n",
              "                                             - 34                                         \n",
              "Covariance Type:                              opg                                         \n",
              "==============================================================================\n",
              "                 coef    std err          z      P>|z|      [0.025      0.975]\n",
              "------------------------------------------------------------------------------\n",
              "sigma2      2.487e+05   6.09e+04      4.082      0.000    1.29e+05    3.68e+05\n",
              "===================================================================================\n",
              "Ljung-Box (L1) (Q):                   0.42   Jarque-Bera (JB):                 1.51\n",
              "Prob(Q):                              0.52   Prob(JB):                         0.47\n",
              "Heteroskedasticity (H):               3.96   Skew:                            -0.37\n",
              "Prob(H) (two-sided):                  0.09   Kurtosis:                         4.09\n",
              "===================================================================================\n",
              "\n",
              "Warnings:\n",
              "[1] Covariance matrix calculated using the outer product of gradients (complex-step).\n",
              "\"\"\""
            ]
          },
          "metadata": {
            "tags": []
          },
          "execution_count": 108
        }
      ]
    },
    {
      "cell_type": "code",
      "metadata": {
        "id": "Vb49xbFrgRPc"
      },
      "source": [
        "x_months = list(afternoon_orders.delivery_month.values)\n",
        "x_months.append('2021-03')"
      ],
      "execution_count": 121,
      "outputs": []
    },
    {
      "cell_type": "code",
      "metadata": {
        "colab": {
          "base_uri": "https://localhost:8080/",
          "height": 653
        },
        "id": "i3ARfsUfNnrJ",
        "outputId": "c45a483c-33d4-45bc-de00-2017a0aa12a1"
      },
      "source": [
        "afternoon_preds = result.predict(0, 38)\n",
        "\n",
        "plt.figure(figsize=(12,10))\n",
        "\n",
        "\n",
        "plt.plot(afternoon_orders.orders.values, label='True')\n",
        "plt.plot(afternoon_preds, label='Predicted')\n",
        "len(afternoon_orders.orders)\n",
        "plt.xticks(range(0, 39))\n",
        "plt.title(\"Afternoon Orders\")\n",
        "plt.legend()\n",
        "plt.xticks(range(0, total_months+1, total_months//20), x_months, rotation='vertical')\n",
        "plt.yticks(range(200, 5300, 200))\n",
        "plt.xlabel('Month')\n",
        "plt.ylabel('Total orders')\n",
        "plt.grid()\n",
        "plt.show()"
      ],
      "execution_count": 124,
      "outputs": [
        {
          "output_type": "display_data",
          "data": {
            "image/png": "[encoded data removed]",
            "text/plain": [
              "<Figure size 864x720 with 1 Axes>"
            ]
          },
          "metadata": {
            "tags": [],
            "needs_background": "light"
          }
        }
      ]
    },
    {
      "cell_type": "markdown",
      "metadata": {
        "id": "pxn8hIggluGl"
      },
      "source": [
        "The predictions are very similar to the real thing, we repeat the same process but for the afternoon shift."
      ]
    },
    {
      "cell_type": "code",
      "metadata": {
        "colab": {
          "base_uri": "https://localhost:8080/"
        },
        "id": "ThCT4He9hCem",
        "outputId": "d2d5d2ec-d126-45db-b212-c3b4266f4ad1"
      },
      "source": [
        "stepwise_fit = auto_arima(morning_orders.orders[:-4], start_p = 1, start_q = 1,\n",
        "                          max_p = 12, max_q = 12, m = 12,\n",
        "                          start_P = 0, seasonal = True,\n",
        "                          d = None, D = 1, trace = False,\n",
        "                          error_action ='ignore')\n",
        "  \n",
        "print(stepwise_fit.summary())"
      ],
      "execution_count": 125,
      "outputs": [
        {
          "output_type": "stream",
          "text": [
            "                                      SARIMAX Results                                      \n",
            "===========================================================================================\n",
            "Dep. Variable:                                   y   No. Observations:                   34\n",
            "Model:             SARIMAX(0, 0, 1)x(0, 1, [], 12)   Log Likelihood                -155.819\n",
            "Date:                             Fri, 04 Jun 2021   AIC                            317.637\n",
            "Time:                                     00:56:40   BIC                            320.910\n",
            "Sample:                                          0   HQIC                           318.408\n",
            "                                              - 34                                         \n",
            "Covariance Type:                               opg                                         \n",
            "==============================================================================\n",
            "                 coef    std err          z      P>|z|      [0.025      0.975]\n",
            "------------------------------------------------------------------------------\n",
            "intercept    809.7306    133.119      6.083      0.000     548.822    1070.639\n",
            "ma.L1          0.7461      0.232      3.222      0.001       0.292       1.200\n",
            "sigma2      8.167e+04   2.31e+04      3.534      0.000    3.64e+04    1.27e+05\n",
            "===================================================================================\n",
            "Ljung-Box (L1) (Q):                   0.01   Jarque-Bera (JB):                12.27\n",
            "Prob(Q):                              0.92   Prob(JB):                         0.00\n",
            "Heteroskedasticity (H):               2.02   Skew:                            -1.24\n",
            "Prob(H) (two-sided):                  0.37   Kurtosis:                         5.70\n",
            "===================================================================================\n",
            "\n",
            "Warnings:\n",
            "[1] Covariance matrix calculated using the outer product of gradients (complex-step).\n"
          ],
          "name": "stdout"
        }
      ]
    },
    {
      "cell_type": "code",
      "metadata": {
        "colab": {
          "base_uri": "https://localhost:8080/",
          "height": 381
        },
        "id": "8HkHiOqMhIKu",
        "outputId": "6331a528-f53a-445c-eaac-f822c8a7f251"
      },
      "source": [
        "model = SARIMAX(morning_orders.orders.values[:-4], \n",
        "                order = (0, 1, 0), \n",
        "                seasonal_order =(0, 1, [], 12))\n",
        "  \n",
        "result = model.fit()\n",
        "result.summary()"
      ],
      "execution_count": 126,
      "outputs": [
        {
          "output_type": "execute_result",
          "data": {
            "text/html": [
              "<table class=\"simpletable\">\n",
              "<caption>SARIMAX Results</caption>\n",
              "<tr>\n",
              "  <th>Dep. Variable:</th>                  <td>y</td>               <th>  No. Observations:  </th>    <td>34</td>   \n",
              "</tr>\n",
              "<tr>\n",
              "  <th>Model:</th>           <td>SARIMAX(0, 1, 0)x(0, 1, 0, 12)</td> <th>  Log Likelihood     </th> <td>-153.770</td>\n",
              "</tr>\n",
              "<tr>\n",
              "  <th>Date:</th>                   <td>Fri, 04 Jun 2021</td>        <th>  AIC                </th>  <td>309.539</td>\n",
              "</tr>\n",
              "<tr>\n",
              "  <th>Time:</th>                       <td>00:56:45</td>            <th>  BIC                </th>  <td>310.584</td>\n",
              "</tr>\n",
              "<tr>\n",
              "  <th>Sample:</th>                         <td>0</td>               <th>  HQIC               </th>  <td>309.766</td>\n",
              "</tr>\n",
              "<tr>\n",
              "  <th></th>                              <td> - 34</td>             <th>                     </th>     <td> </td>   \n",
              "</tr>\n",
              "<tr>\n",
              "  <th>Covariance Type:</th>               <td>opg</td>              <th>                     </th>     <td> </td>   \n",
              "</tr>\n",
              "</table>\n",
              "<table class=\"simpletable\">\n",
              "<tr>\n",
              "     <td></td>       <th>coef</th>     <th>std err</th>      <th>z</th>      <th>P>|z|</th>  <th>[0.025</th>    <th>0.975]</th>  \n",
              "</tr>\n",
              "<tr>\n",
              "  <th>sigma2</th> <td>  1.34e+05</td> <td>  3.7e+04</td> <td>    3.626</td> <td> 0.000</td> <td> 6.16e+04</td> <td> 2.06e+05</td>\n",
              "</tr>\n",
              "</table>\n",
              "<table class=\"simpletable\">\n",
              "<tr>\n",
              "  <th>Ljung-Box (L1) (Q):</th>     <td>0.14</td> <th>  Jarque-Bera (JB):  </th> <td>0.26</td>\n",
              "</tr>\n",
              "<tr>\n",
              "  <th>Prob(Q):</th>                <td>0.71</td> <th>  Prob(JB):          </th> <td>0.88</td>\n",
              "</tr>\n",
              "<tr>\n",
              "  <th>Heteroskedasticity (H):</th> <td>4.33</td> <th>  Skew:              </th> <td>0.07</td>\n",
              "</tr>\n",
              "<tr>\n",
              "  <th>Prob(H) (two-sided):</th>    <td>0.07</td> <th>  Kurtosis:          </th> <td>3.52</td>\n",
              "</tr>\n",
              "</table><br/><br/>Warnings:<br/>[1] Covariance matrix calculated using the outer product of gradients (complex-step)."
            ],
            "text/plain": [
              "<class 'statsmodels.iolib.summary.Summary'>\n",
              "\"\"\"\n",
              "                                     SARIMAX Results                                      \n",
              "==========================================================================================\n",
              "Dep. Variable:                                  y   No. Observations:                   34\n",
              "Model:             SARIMAX(0, 1, 0)x(0, 1, 0, 12)   Log Likelihood                -153.770\n",
              "Date:                            Fri, 04 Jun 2021   AIC                            309.539\n",
              "Time:                                    00:56:45   BIC                            310.584\n",
              "Sample:                                         0   HQIC                           309.766\n",
              "                                             - 34                                         \n",
              "Covariance Type:                              opg                                         \n",
              "==============================================================================\n",
              "                 coef    std err          z      P>|z|      [0.025      0.975]\n",
              "------------------------------------------------------------------------------\n",
              "sigma2       1.34e+05    3.7e+04      3.626      0.000    6.16e+04    2.06e+05\n",
              "===================================================================================\n",
              "Ljung-Box (L1) (Q):                   0.14   Jarque-Bera (JB):                 0.26\n",
              "Prob(Q):                              0.71   Prob(JB):                         0.88\n",
              "Heteroskedasticity (H):               4.33   Skew:                             0.07\n",
              "Prob(H) (two-sided):                  0.07   Kurtosis:                         3.52\n",
              "===================================================================================\n",
              "\n",
              "Warnings:\n",
              "[1] Covariance matrix calculated using the outer product of gradients (complex-step).\n",
              "\"\"\""
            ]
          },
          "metadata": {
            "tags": []
          },
          "execution_count": 126
        }
      ]
    },
    {
      "cell_type": "code",
      "metadata": {
        "colab": {
          "base_uri": "https://localhost:8080/",
          "height": 653
        },
        "id": "p8jsZgPihShC",
        "outputId": "c04f80d2-b97d-4fa2-c35e-f29002c1efc2"
      },
      "source": [
        "morning_preds = result.predict(0, 38)\n",
        "\n",
        "plt.figure(figsize=(12,10))\n",
        "\n",
        "\n",
        "plt.plot(morning_orders.orders.values, label='True')\n",
        "plt.plot(morning_preds, label='Predicted')\n",
        "plt.xticks(range(0, 39))\n",
        "plt.title(\"Morning Orders\")\n",
        "plt.legend()\n",
        "plt.xticks(range(0, total_months+1, total_months//20), x_months, rotation='vertical')\n",
        "plt.yticks(range(200, 5300, 200))\n",
        "plt.xlabel('Month')\n",
        "plt.ylabel('Total orders')\n",
        "plt.grid()\n",
        "plt.show()"
      ],
      "execution_count": 127,
      "outputs": [
        {
          "output_type": "display_data",
          "data": {
            "image/png": "[encoded data removed]",
            "text/plain": [
              "<Figure size 864x720 with 1 Axes>"
            ]
          },
          "metadata": {
            "tags": [],
            "needs_background": "light"
          }
        }
      ]
    },
    {
      "cell_type": "markdown",
      "metadata": {
        "id": "xx4_Y-xsl0WM"
      },
      "source": [
        "With both shifts in place, the total number of workers for each can now be calculated"
      ]
    },
    {
      "cell_type": "code",
      "metadata": {
        "colab": {
          "base_uri": "https://localhost:8080/"
        },
        "id": "-nkSfr0FiDah",
        "outputId": "4c7184fb-d193-461a-9f4c-ff3c752ef2c6"
      },
      "source": [
        "pred_march_morning_orders = morning_preds[-1]\n",
        "pred_march_afternoon_orders = afternoon_preds[-1]\n",
        "hours_per_shift = 6\n",
        "orders_per_hour = 5\n",
        "orders_per_worker = orders_per_hour * hours_per_shift\n",
        "print(\"Expected orders for the morning shift: \", pred_march_morning_orders)\n",
        "print(\"Expected orders for the afternoon shift: \", pred_march_afternoon_orders)\n",
        "print(\"Max orders a worker can take: \", orders_per_worker)\n",
        "mm_workers = math.ceil(pred_march_morning_orders / orders_per_worker)\n",
        "print(\"March morning shift workers: \", mm_workers)\n",
        "ma_workers = math.ceil(pred_march_afternoon_orders / orders_per_worker)\n",
        "print(\"March morning shift workers: \", ma_workers)"
      ],
      "execution_count": 134,
      "outputs": [
        {
          "output_type": "stream",
          "text": [
            "Expected orders for the morning shift:  2059.0\n",
            "Expected orders for the afternoon shift:  2747.0\n",
            "Max orders a worker can take:  30\n",
            "March morning shift workers:  69\n",
            "March morning shift workers:  92\n"
          ],
          "name": "stdout"
        }
      ]
    },
    {
      "cell_type": "markdown",
      "metadata": {
        "id": "w1-80wDfm0p9"
      },
      "source": [
        "# What to do Next\n",
        "\n",
        "In the end we got predictions that seemed very close to the actual number of orders, and we got a forecast of 69 workers for the morning shift and 92 for the afternoon one. \n",
        "The fact that the predictions are so close to the real thing could mean that we've got a case of overfitting in the model; we could try to check if that's the case by analysing data in a smaller scale, maybe bi-weekly or weekly instead of monthly. That comes with problems of its own since because single days are way more sensitive to external factors (like holidays or weekends) and the closer we get to that scale the more of that noise we'll have in our data.\n",
        "\n",
        "One last problem that was noticed right at the end of the analysis was that the pandemic affectedness level was completely disregarded for the predictions. To be honest this was an accident as I didn't realise until it was too late. With more time it would be work checking how this extra feature would affect the predictions. Most likely different models would have to be tested to support this additional feature, so a way of keeping the context/data of previous days for the current data would need to be added as well. This could be in the form of adding previous data as new features, for example 12 new features each one indicating the number of orders for the previous 12 months."
      ]
    }
  ]
}